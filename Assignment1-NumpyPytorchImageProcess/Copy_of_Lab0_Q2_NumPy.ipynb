{
  "nbformat": 4,
  "nbformat_minor": 0,
  "metadata": {
    "colab": {
      "provenance": [],
      "toc_visible": true
    },
    "kernelspec": {
      "name": "python3",
      "display_name": "Python 3"
    },
    "language_info": {
      "name": "python"
    }
  },
  "cells": [
    {
      "cell_type": "code",
      "metadata": {
        "id": "alrXoCflGKM8",
        "colab": {
          "base_uri": "https://localhost:8080/"
        },
        "outputId": "6d3d816a-ea94-4401-835f-72adafa686fd"
      },
      "source": [
        "import numpy as np\n",
        "print(np.__version__)\n",
        "import matplotlib.pylab as plt"
      ],
      "execution_count": null,
      "outputs": [
        {
          "output_type": "stream",
          "name": "stdout",
          "text": [
            "1.21.6\n"
          ]
        }
      ]
    },
    {
      "cell_type": "markdown",
      "metadata": {
        "id": "C6DUK8dwjExh"
      },
      "source": [
        "# Numpy Basics:\n"
      ]
    },
    {
      "cell_type": "markdown",
      "metadata": {
        "id": "9x-UquUqkMWs"
      },
      "source": [
        "**Exercise #1:** Creating a numpy array with particular value\n",
        "\n",
        "**Your Task** Create a numpy array with size 2*3 with all elements as 5."
      ]
    },
    {
      "cell_type": "code",
      "metadata": {
        "id": "jyhhYUA4kpqj",
        "colab": {
          "base_uri": "https://localhost:8080/"
        },
        "outputId": "17c5d8cf-96fe-4c32-c940-3ff3b265637d"
      },
      "source": [
        "# YOUR CODE STARTS HERE\n",
        "arr =np.full((2, 3), 5)\n",
        "# YOUR CODE ENDS HERE\n",
        "print(arr)"
      ],
      "execution_count": null,
      "outputs": [
        {
          "output_type": "stream",
          "name": "stdout",
          "text": [
            "[[5 5 5]\n",
            " [5 5 5]]\n"
          ]
        }
      ]
    },
    {
      "cell_type": "markdown",
      "metadata": {
        "id": "5NaczYqflEd5"
      },
      "source": [
        "**Exercise #2:** Creating a numpy array with *random* value\n",
        "\n",
        "**Your Task** Create a numpy array with size 2*3 with all random values"
      ]
    },
    {
      "cell_type": "code",
      "metadata": {
        "id": "9H2HQNC9lL-0",
        "colab": {
          "base_uri": "https://localhost:8080/"
        },
        "outputId": "0d720d01-869b-4e28-d9ba-bb6bbbd4c73c"
      },
      "source": [
        "# YOUR CODE STARTS HERE\n",
        "rand_arr =np.random.rand(2,3)\n",
        "# YOUR CODE ENDS HERE\n",
        "print(rand_arr)"
      ],
      "execution_count": null,
      "outputs": [
        {
          "output_type": "stream",
          "name": "stdout",
          "text": [
            "[[0.48497553 0.69420432 0.89032313]\n",
            " [0.89371611 0.56878036 0.30121624]]\n"
          ]
        }
      ]
    },
    {
      "cell_type": "code",
      "metadata": {
        "id": "UDrDaAK4l5gq",
        "colab": {
          "base_uri": "https://localhost:8080/"
        },
        "outputId": "d04a1063-452a-4eb4-9a5b-ebfffca12416"
      },
      "source": [
        "#YOUR CODE STARTS HERE\n",
        "arr_sum = sum(map(sum, rand_arr))\n",
        "# arr_mean =sum(rand_arr)/sum(map(len, rand_arr))\n",
        "arr_mean =sum(map(sum, rand_arr))/sum(map(len, rand_arr))\n",
        "arr_max = max(map(max, rand_arr))\n",
        "arr_min = min(map(min, rand_arr))\n",
        "#YOUR CODE ENDS HERE\n",
        "\n",
        "print(f'sum: {arr_sum}\\nmean: {arr_mean}\\nmax: {arr_max}\\nmin:{arr_min}')"
      ],
      "execution_count": null,
      "outputs": [
        {
          "output_type": "stream",
          "name": "stdout",
          "text": [
            "sum: 3.833215680156096\n",
            "mean: 0.638869280026016\n",
            "max: 0.8937161079451426\n",
            "min:0.3012162377308565\n"
          ]
        }
      ]
    },
    {
      "cell_type": "code",
      "source": [
        "list(map(max, rand_arr))"
      ],
      "metadata": {
        "colab": {
          "base_uri": "https://localhost:8080/"
        },
        "id": "f8mZaORntnK0",
        "outputId": "f027ef40-0a29-4fd6-db5e-38b182953972"
      },
      "execution_count": null,
      "outputs": [
        {
          "output_type": "execute_result",
          "data": {
            "text/plain": [
              "[0.8663916116707746, 0.8032331291826542]"
            ]
          },
          "metadata": {},
          "execution_count": 13
        }
      ]
    },
    {
      "cell_type": "code",
      "source": [
        "# sum(map(len, rand_arr))\n",
        "# rand_arr[:,0:2]\n",
        "# rand_arr[1,:]\n",
        "print(list(map(max,rand_arr[1,:])))"
      ],
      "metadata": {
        "colab": {
          "base_uri": "https://localhost:8080/"
        },
        "id": "Tz3xGdLCax7C",
        "outputId": "e466432c-c64f-4236-b6f1-242fac604234"
      },
      "execution_count": null,
      "outputs": [
        {
          "output_type": "stream",
          "name": "stdout",
          "text": [
            "<map object at 0x7f2c0ca19410>\n"
          ]
        }
      ]
    },
    {
      "cell_type": "code",
      "source": [
        "# rand_arr[np.where(rand_arr==arr_min)]\n",
        "np.where(rand_arr==arr_min)"
      ],
      "metadata": {
        "colab": {
          "base_uri": "https://localhost:8080/"
        },
        "id": "LgqbMXrFce39",
        "outputId": "2d9b6990-cc3c-4f8b-cdf6-fedf1383d068"
      },
      "execution_count": null,
      "outputs": [
        {
          "output_type": "execute_result",
          "data": {
            "text/plain": [
              "(array([1]), array([2]))"
            ]
          },
          "metadata": {},
          "execution_count": 7
        }
      ]
    },
    {
      "cell_type": "markdown",
      "metadata": {
        "id": "uT4LJPBFldNc"
      },
      "source": [
        "**Exercise #3:** Basic NumPy operatrions\n",
        "\n",
        "**Your Task** For the random array `arr`defined above, find the `sum` of all the elements, `mean`, `maximum` and `minimum` value"
      ]
    },
    {
      "cell_type": "markdown",
      "metadata": {
        "id": "JzoFSwHjl3dW"
      },
      "source": [
        "**Exercise #4:** `argmin` and `argmax`\n",
        "\n",
        "**Your Task** For the random array `arr`defined below:\n",
        "\n",
        "*   Find the position of maximum and minimum value of above array\n",
        "*   Find the indices of maximum and minimum value along each of its columns.\n",
        "*   Find the indices of maximum and minimum value along each of the its rows.\n",
        "\n"
      ]
    },
    {
      "cell_type": "code",
      "metadata": {
        "id": "VBawwx5KmpZR",
        "colab": {
          "base_uri": "https://localhost:8080/"
        },
        "outputId": "7097a5c5-d512-43df-bdd1-64c54930530f"
      },
      "source": [
        "# Define an array\n",
        "arr = np.array([[5,12,51,25] ,[25,29,2,27]])\n",
        "print(f'Array:\\n{arr}\\n')\n",
        "arr_transpose=np.transpose(arr)\n",
        "print(f'Array:\\n{arr_transpose}\\n')\n",
        "# YOUR CODE STARTS HERE\n",
        "#Find the position of maximum and minimum value of above array\n",
        "max_idx = np.where(arr==max(map(max, arr)))\n",
        "min_idx = np.where(arr==min(map(min, arr)))\n",
        "print(max_idx,min_idx)\n",
        "# print(list(map(min, arr)))\n",
        "#Find the indices of maximum and minimum value along each of its columns.\n",
        "max_list=list(map(max, arr_transpose))\n",
        "min_list=list(map(min, arr_transpose))\n",
        "print(max_list)\n",
        "max_col=[]\n",
        "min_col=[]\n",
        "for element in max_list:\n",
        "  max_col.append(list(np.where (arr_transpose==element)))\n",
        "for element in min_list:\n",
        "  min_col.append(list(np.where(arr_transpose== element)))\n",
        "print(f'max col :\\n{max_col}\\n')\n",
        "print(f'min col :\\n{min_col}\\n')\n",
        "\n",
        "#Find the indices of maximum and minimum value along each of the its rows.\n",
        "max_list=list(map(max, arr))\n",
        "min_list=list(map(min, arr))\n",
        "max_row=[]\n",
        "min_row=[]\n",
        "for element in max_list:\n",
        "  max_row.append(list(np.where (arr==element)))\n",
        "for element in min_list:\n",
        "  min_row.append(list(np.where(arr== element)))\n",
        "print(f'max row :\\n{max_row}\\n')\n",
        "print(f'min row :\\n{min_row}\\n')\n",
        "#YOUR CODE ENDS HERE"
      ],
      "execution_count": null,
      "outputs": [
        {
          "output_type": "stream",
          "name": "stdout",
          "text": [
            "Array:\n",
            "[[ 5 12 51 25]\n",
            " [25 29  2 27]]\n",
            "\n",
            "Array:\n",
            "[[ 5 25]\n",
            " [12 29]\n",
            " [51  2]\n",
            " [25 27]]\n",
            "\n",
            "(array([0]), array([2])) (array([1]), array([2]))\n",
            "[25, 29, 51, 27]\n",
            "max col :\n",
            "[[array([0, 3]), array([1, 0])], [array([1]), array([1])], [array([2]), array([0])], [array([3]), array([1])]]\n",
            "\n",
            "min col :\n",
            "[[array([0]), array([0])], [array([1]), array([0])], [array([2]), array([1])], [array([0, 3]), array([1, 0])]]\n",
            "\n",
            "max row :\n",
            "[[array([0]), array([2])], [array([1]), array([1])]]\n",
            "\n",
            "min row :\n",
            "[[array([0]), array([0])], [array([1]), array([2])]]\n",
            "\n"
          ]
        }
      ]
    },
    {
      "cell_type": "code",
      "source": [],
      "metadata": {
        "id": "McmxuNE4omQ2"
      },
      "execution_count": null,
      "outputs": []
    }
  ]
}