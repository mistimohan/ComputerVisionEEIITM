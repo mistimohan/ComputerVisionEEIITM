{
  "nbformat": 4,
  "nbformat_minor": 0,
  "metadata": {
    "colab": {
      "provenance": [],
      "toc_visible": true
    },
    "kernelspec": {
      "name": "python3",
      "display_name": "Python 3"
    },
    "language_info": {
      "name": "python"
    }
  },
  "cells": [
    {
      "cell_type": "code",
      "metadata": {
        "id": "alrXoCflGKM8",
        "colab": {
          "base_uri": "https://localhost:8080/"
        },
        "outputId": "b369f97c-38cb-455d-b6f5-25fda879ee4a"
      },
      "source": [
        "import numpy as np\n",
        "print(np.__version__)\n",
        "import torch\n",
        "print(torch.__version__)\n",
        "import torch.nn.functional as F\n",
        "import matplotlib.pylab as plt"
      ],
      "execution_count": null,
      "outputs": [
        {
          "output_type": "stream",
          "name": "stdout",
          "text": [
            "1.21.6\n",
            "1.12.0+cu113\n"
          ]
        }
      ]
    },
    {
      "cell_type": "markdown",
      "metadata": {
        "id": "kkoWEQE4jf1V"
      },
      "source": [
        "# Pytorch Basics:\n"
      ]
    },
    {
      "cell_type": "markdown",
      "metadata": {
        "id": "MiTN0fMclcwt"
      },
      "source": [
        "**Exercise #1:** Torch Tensors\n",
        "\n",
        "**Your Task**: Convert the list to a tensor and check its properties.\n",
        "\n",
        "*   the following list of integers <i>[0, 1, 2, 3, 4]</i> to a torch *int* tensor.\n",
        "*   the following float list <i>[0.0, 1.0, 2.0, 3.0, 4.0]</i> to a torch *float* tensor.\n",
        "*   Convert the torch int tensor to torch float tensor.\n",
        "\n"
      ]
    },
    {
      "cell_type": "code",
      "metadata": {
        "id": "qIupvreRjfFL",
        "colab": {
          "base_uri": "https://localhost:8080/"
        },
        "outputId": "3da69a21-aca8-479c-fb82-df95eb054e1e"
      },
      "source": [
        "# Convert a integer list with length 5 to a tensor\n",
        "int_list = [1,2,3,4,5]\n",
        "# YOUR CODE STARTS HERE\n",
        "ints_to_tensor =torch.tensor( int_list,dtype=torch.int32)\n",
        "#YOUR CODE ENDS HERE\n",
        "print(\"The dtype of tensor object after converting it to tensor: \", ints_to_tensor.dtype)\n",
        "print(\"The type of tensor object after converting it to tensor: \", ints_to_tensor.type())\n",
        "print(\"The size of the ints_to_tensor: \", ints_to_tensor.size())\n",
        "print(\"The dimension of the ints_to_tensor: \",ints_to_tensor.ndimension())\n"
      ],
      "execution_count": null,
      "outputs": [
        {
          "output_type": "stream",
          "name": "stdout",
          "text": [
            "The dtype of tensor object after converting it to tensor:  torch.int32\n",
            "The type of tensor object after converting it to tensor:  torch.IntTensor\n",
            "The size of the ints_to_tensor:  torch.Size([5])\n",
            "The dimension of the ints_to_tensor:  1\n"
          ]
        }
      ]
    },
    {
      "cell_type": "code",
      "metadata": {
        "id": "cjxqGezqL2gC",
        "colab": {
          "base_uri": "https://localhost:8080/"
        },
        "outputId": "5ac51e0f-2ace-458d-e9c6-80961241cc4f"
      },
      "source": [
        "# Convert a float list with length 5 to a tensor\n",
        "float_list = [0.0, 1.0, 2.0, 3.0, 4.0]\n",
        "# YOUR CODE STARTS HERE\n",
        "floats_to_tensor = torch.Tensor(float_list)\n",
        "#YOUR CODE ENDS HERE\n",
        "\n",
        "print(\"The dtype of tensor object after converting it to tensor: \", floats_to_tensor.dtype)\n",
        "print(\"The type of tensor object after converting it to tensor: \", floats_to_tensor.type())\n",
        "print(\"The size of the floats_to_tensor: \", floats_to_tensor.size())\n",
        "print(\"The dimension of the floats_to_tensor: \",floats_to_tensor.ndimension())"
      ],
      "execution_count": null,
      "outputs": [
        {
          "output_type": "stream",
          "name": "stdout",
          "text": [
            "The dtype of tensor object after converting it to tensor:  torch.float32\n",
            "The type of tensor object after converting it to tensor:  torch.FloatTensor\n",
            "The size of the floats_to_tensor:  torch.Size([5])\n",
            "The dimension of the floats_to_tensor:  1\n"
          ]
        }
      ]
    },
    {
      "cell_type": "code",
      "metadata": {
        "id": "j7g2AIN4MioI",
        "colab": {
          "base_uri": "https://localhost:8080/"
        },
        "outputId": "2d72100a-77da-41f1-eb93-da570151ad70"
      },
      "source": [
        "# Convert the integer tensor to float tensor\n",
        "old_int_tensor = torch.tensor([0, 1, 2, 3, 4])\n",
        "# YOUR CODE STARTS HERE\n",
        "new_float_tensor = old_int_tensor.to(dtype=torch.float32)\n",
        "#YOUR CODE ENDS HERE\n",
        "\n",
        "print(\"The type of the new_float_tensor:\", new_float_tensor.type())\n",
        "print(\"The size of the new_float_tensor: \", new_float_tensor.size())\n",
        "print(\"The dimension of the new_float_tensor: \",new_float_tensor.ndimension())"
      ],
      "execution_count": null,
      "outputs": [
        {
          "output_type": "stream",
          "name": "stdout",
          "text": [
            "The type of the new_float_tensor: torch.FloatTensor\n",
            "The size of the new_float_tensor:  torch.Size([5])\n",
            "The dimension of the new_float_tensor:  1\n"
          ]
        }
      ]
    },
    {
      "cell_type": "markdown",
      "metadata": {
        "id": "moNAyO_qN3oe"
      },
      "source": [
        "**Exercise #2:** 2D Torch Tensors and 2D numpy arrays\n",
        "\n",
        "**Your Task**: numpy vs. torch\n",
        "\n",
        "*   Convert the given numpy array to a torch tensor; And torch tensor to a numpy array\n"
      ]
    },
    {
      "cell_type": "code",
      "metadata": {
        "id": "JV9SfnYAN2y_",
        "colab": {
          "base_uri": "https://localhost:8080/"
        },
        "outputId": "d3283fa1-44b9-4523-bfb4-7c872bafc497"
      },
      "source": [
        "twoD_list = [[11, 12, 13], [21, 22, 23], [31, 32, 33]]\n",
        "twoD_numpy = np.asarray(twoD_list)\n",
        "print(\"The numpy array: \", twoD_numpy)\n",
        "print(\"Type : \", twoD_numpy.dtype)\n",
        "\n",
        "# Convert numpy array to tensor\n",
        "# YOUR CODE STARTS HERE\n",
        "twoD_tensor =torch.from_numpy(twoD_numpy)\n",
        "#YOUR CODE ENDS HERE\n",
        "print(\"\\nNumpy Array -> Tensor:\")\n",
        "print(\"The tensor after converting:\", twoD_tensor)\n",
        "print(\"Type after converting: \", twoD_tensor.dtype)\n",
        "\n",
        "# Convert torch tensor to numpy array\n",
        "# YOUR CODE STARTS HERE\n",
        "new_twoD_numpy =twoD_tensor.numpy()\n",
        "#YOUR CODE ENDS HERE\n",
        "print(\"\\nTensor -> Numpy Array:\")\n",
        "print(\"The numpy array after converting: \", new_twoD_numpy)\n",
        "print(\"Type after converting: \", new_twoD_numpy.dtype)\n"
      ],
      "execution_count": null,
      "outputs": [
        {
          "output_type": "stream",
          "name": "stdout",
          "text": [
            "The numpy array:  [[11 12 13]\n",
            " [21 22 23]\n",
            " [31 32 33]]\n",
            "Type :  int64\n",
            "\n",
            "Numpy Array -> Tensor:\n",
            "The tensor after converting: tensor([[11, 12, 13],\n",
            "        [21, 22, 23],\n",
            "        [31, 32, 33]])\n",
            "Type after converting:  torch.int64\n",
            "\n",
            "Tensor -> Numpy Array:\n",
            "The numpy array after converting:  [[11 12 13]\n",
            " [21 22 23]\n",
            " [31 32 33]]\n",
            "Type after converting:  int64\n"
          ]
        }
      ]
    },
    {
      "cell_type": "markdown",
      "metadata": {
        "id": "7ATEG19PPqsn"
      },
      "source": [
        "**Exercise #3:** 2D Torch Tensors and 2D numpy arrays\n",
        "\n",
        "**Your Task**: Access the different elements of the tensor `twoD_tensor` and numpyarray `twoD_numpy`.\n",
        "\n"
      ]
    },
    {
      "cell_type": "code",
      "metadata": {
        "id": "oWuHGIbnPrjX",
        "colab": {
          "base_uri": "https://localhost:8080/"
        },
        "outputId": "55cbeef5-b8d4-44e9-965c-8d6db7d8c82b"
      },
      "source": [
        "# Slice rows 2nd and 3rd row\n",
        "# YOUR CODE STARTS HERE\n",
        "sliced_tensor = twoD_tensor [0 ,: ]\n",
        "sliced_numpy = twoD_numpy[0,:]\n",
        "# YOUR CODE STARTS HERE\n",
        "\n",
        "print(\"Tensor: Result after tensor slicing \", sliced_tensor)\n",
        "print(\"Tensor: Dimension after tensor slicing \", sliced_tensor.ndimension())\n",
        "print(\"Numpy: Result after np slicing: \", sliced_numpy)\n",
        "print(\"Numpy: Dimension after np slicing: \", sliced_numpy.ndim)"
      ],
      "execution_count": null,
      "outputs": [
        {
          "output_type": "stream",
          "name": "stdout",
          "text": [
            "Tensor: Result after tensor slicing  tensor([11, 12, 13])\n",
            "Tensor: Dimension after tensor slicing  1\n",
            "Numpy: Result after np slicing:  [11 12 13]\n",
            "Numpy: Dimension after np slicing:  1\n"
          ]
        }
      ]
    },
    {
      "cell_type": "markdown",
      "metadata": {
        "id": "O52E8XJJRxtc"
      },
      "source": [
        "<h2 id=\"Tensor_Op\">Tensor Operations</h2>"
      ]
    },
    {
      "cell_type": "markdown",
      "metadata": {
        "id": "_1suut6QGZvp"
      },
      "source": [
        "**Exercise #4:** Dot Product\n",
        "\n",
        "In this task, you will implement the dot product function for numpy arrays & torch tensors.\n",
        "\n",
        "The dot product (also known as the scalar product or inner product) is the linear combination of the n real components of two vectors.\n",
        "\n",
        "$$x \\cdot y = x_1 y_1 + x_2 y_2 + \\cdots + x_n y_n$$\n",
        "\n",
        "**Your Task**: Implement the functions `NUMPY_dot` & `PYTORCH_dot`."
      ]
    },
    {
      "cell_type": "code",
      "metadata": {
        "id": "6rNTB943Gjgw"
      },
      "source": [
        "def NUMPY_dot(x, y):\n",
        "    \"\"\"\n",
        "    Dot product of two arrays.\n",
        "\n",
        "    Parameters:\n",
        "    x (numpy.ndarray): 1-dimensional numpy array.\n",
        "    y (numpy.ndarray): 1-dimensional numpy array.\n",
        "\n",
        "    Returns:\n",
        "    numpy.int64: scalar quantity.\n",
        "    \"\"\"\n",
        "    # YOUR CODE STARTS HERE\n",
        "    # for i in range(0,len(x)):\n",
        "    #   x[i]=x[i]*y[i]\n",
        "\n",
        "    # YOUR CODE ends HERE\n",
        "\n",
        "    # return sum(x)\n",
        "    return np.dot(x,y)        #np.asscalar is deprecated.Use item instead"
      ],
      "execution_count": null,
      "outputs": []
    },
    {
      "cell_type": "code",
      "metadata": {
        "id": "MdpNs2pAGlEF"
      },
      "source": [
        "def PYTORCH_dot(x, y):\n",
        "    \"\"\"\n",
        "    Dot product of two tensors.\n",
        "\n",
        "    Parameters:\n",
        "    x (torch.Tensor): 1-dimensional torch tensor.\n",
        "    y (torch.Tensor): 1-dimensional torch tensor.\n",
        "\n",
        "    Returns:\n",
        "    torch.int64: scalar quantity.\n",
        "    \"\"\"\n",
        "    # YOUR CODE STARTS HERE\n",
        "    # for i in range(0,len(x)):\n",
        "    #   x[i]=x[i]*y[i]\n",
        "    # YOUR CODE ends HERE\n",
        "\n",
        "    return torch.dot(x,y)"
      ],
      "execution_count": null,
      "outputs": []
    },
    {
      "cell_type": "code",
      "metadata": {
        "id": "VStlPUWhUTnd",
        "colab": {
          "base_uri": "https://localhost:8080/"
        },
        "outputId": "fc1a4546-c990-44ed-d233-36a93227b127"
      },
      "source": [
        "# TEST cases\n",
        "X = np.asarray([1,2,3])\n",
        "Y = np.asarray([4,-5,6])\n",
        "print(f'NUMPY: Dot product of {X} and {Y} is {NUMPY_dot(X,Y)}')\n",
        "print(type(NUMPY_dot(X,Y)),type(12))\n",
        "assert NUMPY_dot(X,Y)==12\n",
        "\n",
        "X = torch.from_numpy(X)\n",
        "Y = torch.from_numpy(Y)\n",
        "print(f'Pytorch: Dot product of {X} and {Y} is {PYTORCH_dot(X,Y)}')\n",
        "print(type(PYTORCH_dot(X,Y).item()),type(12))\n",
        "assert PYTORCH_dot(X,Y).item()==12"
      ],
      "execution_count": null,
      "outputs": [
        {
          "output_type": "stream",
          "name": "stdout",
          "text": [
            "NUMPY: Dot product of [1 2 3] and [ 4 -5  6] is 12\n",
            "<class 'numpy.int64'> <class 'int'>\n",
            "Pytorch: Dot product of tensor([1, 2, 3]) and tensor([ 4, -5,  6]) is 12\n",
            "<class 'int'> <class 'int'>\n"
          ]
        }
      ]
    },
    {
      "cell_type": "markdown",
      "metadata": {
        "id": "21DOFINXGNCf"
      },
      "source": [
        "**Exercise #5:** Outer Product\n",
        "\n",
        "In this task, you will implement the outer product function for numpy arrays & torch tensors.\n",
        "\n",
        "The outer product (also known as the tensor product) of vectors x and y is defined as\n",
        "\n",
        "$$\n",
        "x \\otimes y =\n",
        "\\begin{bmatrix}\n",
        "x_1 y_1 & x_1 y_2 & … & x_1 y_n\\\\\n",
        "x_2 y_1 & x_2 y_2 & … & x_2 y_n\\\\\n",
        "⋮ & ⋮ & ⋱ & ⋮ \\\\\n",
        "x_m y_1 & x_m y_2 & … & x_m y_n\n",
        "\\end{bmatrix}\n",
        "$$\n",
        "\n",
        "**Your Task**: Implement the functions `NUMPY_outer` & `PYTORCH_outer`."
      ]
    },
    {
      "cell_type": "code",
      "metadata": {
        "id": "2Hm0jLIDGOJX"
      },
      "source": [
        "def NUMPY_outer(x, y):\n",
        "    \"\"\"\n",
        "    Compute the outer product of two vectors.\n",
        "\n",
        "    Parameters:\n",
        "    x (numpy.ndarray): 1-dimensional numpy array.\n",
        "    y (numpy.ndarray): 1-dimensional numpy array.\n",
        "\n",
        "    Returns:\n",
        "    numpy.ndarray: 2-dimensional numpy array.\n",
        "    \"\"\"\n",
        "    # outer_product=np.zeros((len(x),len(y)),)\n",
        "    # YOUR CODE STARTS HERE\n",
        "    # for i in range(0,len(x)):\n",
        "    #   for j in range(0,len(y)):\n",
        "    #     outer_product[i][j]=np.multiply(x[i],y[j])\n",
        "\n",
        "\n",
        "    # YOUR CODE ends HERE\n",
        "\n",
        "    # return outer_product\n",
        "    return np.outer(x,y)\n",
        "    # return None\n",
        ""
      ],
      "execution_count": null,
      "outputs": []
    },
    {
      "cell_type": "code",
      "metadata": {
        "id": "DEFE0kPkVR3d"
      },
      "source": [
        "def PYTORCH_outer(x, y):\n",
        "    \"\"\"\n",
        "    Compute the outer product of two vectors.\n",
        "\n",
        "    Parameters:\n",
        "    x (torch.Tensor): 1-dimensional torch tensor.\n",
        "    y (torch.Tensor): 1-dimensional torch tensor.\n",
        "\n",
        "    Returns:\n",
        "    torch.Tensor: 2-dimensional torch tensor.\n",
        "    \"\"\"\n",
        "    # YOUR CODE STARTS HERE\n",
        "\n",
        "    # YOUR CODE ends HERE\n",
        "\n",
        "    return torch.outer(x,y)"
      ],
      "execution_count": null,
      "outputs": []
    },
    {
      "cell_type": "code",
      "metadata": {
        "id": "45jAXfICVTE3",
        "colab": {
          "base_uri": "https://localhost:8080/"
        },
        "outputId": "17b78c85-7ce4-4a10-a167-d9e43b1f5522"
      },
      "source": [
        "# TEST cases\n",
        "X = np.asarray([1,2])\n",
        "Y = np.asarray([1,3])\n",
        "print(NUMPY_outer(X,Y))\n",
        "print(f'NUMPY: Dot product of {X} and {Y} is \\n{NUMPY_outer(X,Y)}')\n",
        "\n",
        "x = np.array(['a', 'b', 'c'], dtype=object)\n",
        "print(f'NUMPY: Dot product of {X} and {Y} is \\n{NUMPY_outer(x, [1, 2, 3])}')\n",
        "\n",
        "X = torch.from_numpy(X)\n",
        "Y = torch.from_numpy(Y)\n",
        "print(f'Pytorch: Dot product of {X} and {Y} is \\n{PYTORCH_outer(X,Y)}')"
      ],
      "execution_count": null,
      "outputs": [
        {
          "output_type": "stream",
          "name": "stdout",
          "text": [
            "[[1 3]\n",
            " [2 6]]\n",
            "NUMPY: Dot product of [1 2] and [1 3] is \n",
            "[[1 3]\n",
            " [2 6]]\n",
            "NUMPY: Dot product of [1 2] and [1 3] is \n",
            "[['a' 'aa' 'aaa']\n",
            " ['b' 'bb' 'bbb']\n",
            " ['c' 'cc' 'ccc']]\n",
            "Pytorch: Dot product of tensor([1, 2]) and tensor([1, 3]) is \n",
            "tensor([[1, 3],\n",
            "        [2, 6]])\n"
          ]
        }
      ]
    },
    {
      "cell_type": "markdown",
      "metadata": {
        "id": "SQotAIuzYiqM"
      },
      "source": [
        "**Exercise #6:** Hadamard Product\n",
        "\n",
        "In this task, you will implement the Hadamard product function, `multiply`, for numpy arrays & torch tensors.\n",
        "\n",
        "The Hadamard product (also known as the Schur product or entrywise product) of vectors x and y is defined as\n",
        "\n",
        "$$\n",
        "x \\circ y =\n",
        "\\begin{bmatrix}\n",
        "x_{1} y_{1} & x_{2} y_{2} & … & x_{n} y_{n}\n",
        "\\end{bmatrix}\n",
        "$$\n",
        "\n",
        "**Your Task**: Implement the functions `NUMPY_multiply` & `PYTORCH_multiply`."
      ]
    },
    {
      "cell_type": "code",
      "metadata": {
        "id": "y9_9W6BCYjmr"
      },
      "source": [
        "def NUMPY_multiply(x, y):\n",
        "    \"\"\"\n",
        "    Multiply arguments element-wise.\n",
        "\n",
        "    Parameters:\n",
        "    x (numpy.ndarray): 1-dimensional numpy array.\n",
        "    y (numpy.ndarray): 1-dimensional numpy array.\n",
        "\n",
        "    Returns:\n",
        "    numpy.ndarray: 1-dimensional numpy array.\n",
        "    \"\"\"\n",
        "    # YOUR CODE STARTS HERE\n",
        "\n",
        "    # YOUR CODE ends HERE\n",
        "\n",
        "    return np.multiply(x,y)"
      ],
      "execution_count": null,
      "outputs": []
    },
    {
      "cell_type": "code",
      "metadata": {
        "id": "H3-91qalYplz"
      },
      "source": [
        "def PYTORCH_multiply(x, y):\n",
        "    \"\"\"\n",
        "    Multiply arguments element-wise.\n",
        "\n",
        "    Parameters:\n",
        "    x (torch.Tensor): 1-dimensional torch tensor.\n",
        "    y (torch.Tensor): 1-dimensional torch tensor.\n",
        "\n",
        "    Returns:\n",
        "    torch.Tensor: 1-dimensional torch tensor.\n",
        "    \"\"\"\n",
        "    # YOUR CODE STARTS HERE\n",
        "\n",
        "    # YOUR CODE ends HERE\n",
        "\n",
        "    return torch.multiply(x,y)"
      ],
      "execution_count": null,
      "outputs": []
    },
    {
      "cell_type": "code",
      "metadata": {
        "id": "k3PzQ-9CYq5j",
        "colab": {
          "base_uri": "https://localhost:8080/"
        },
        "outputId": "6844ebb1-962a-4039-9701-1e979dec37cc"
      },
      "source": [
        "# TEST cases\n",
        "X = np.asarray([1,2,3])\n",
        "Y = np.asarray([4,-5,6])\n",
        "print(f'NUMPY: Dot product of {X} and {Y} is {NUMPY_multiply(X,Y)}')\n",
        "\n",
        "X = torch.from_numpy(X)\n",
        "Y = torch.from_numpy(Y)\n",
        "print(f'Pytorch: Dot product of {X} and {Y} is {PYTORCH_multiply(X,Y)}')"
      ],
      "execution_count": null,
      "outputs": [
        {
          "output_type": "stream",
          "name": "stdout",
          "text": [
            "NUMPY: Dot product of [1 2 3] and [ 4 -5  6] is [  4 -10  18]\n",
            "Pytorch: Dot product of tensor([1, 2, 3]) and tensor([ 4, -5,  6]) is tensor([  4, -10,  18])\n"
          ]
        }
      ]
    },
    {
      "cell_type": "markdown",
      "metadata": {
        "id": "HpInjaNXaA12"
      },
      "source": [
        "**Exercise #7:** ReLU\n",
        "\n",
        "In this task, you will implement the ReLU activation function for numpy arrays and torch tensors.\n",
        "\n",
        "The ReLU activation (also known as the rectifier or rectified linear unit) matrix Z resulting from applying the ReLU function to matrix X is defined such that for $X,Z \\in M_{m \\times n} (\\mathbb{R})$,\n",
        "\n",
        "$$Z = {\\tt ReLU}(X) \\implies \\begin{cases}z_{ij} = x_{ij}&{\\mbox{if }}x_{ij}>0\\\\z_{ij} = 0&{\\mbox{otherwise.}}\\end{cases}$$\n",
        "\n",
        "For reference, it is common to use the notation $X = (x_{ij})$ and $Z = (z_{ij})$.\n",
        "\n",
        "**Your Task:** Implement the functions `NUMPY_ReLU` & `PYTORCH_ReLU`."
      ]
    },
    {
      "cell_type": "code",
      "metadata": {
        "id": "IYx9zXS9ZbNS"
      },
      "source": [
        "def NUMPY_ReLU(x):\n",
        "    \"\"\"\n",
        "    Applies the rectified linear unit function element-wise.\n",
        "\n",
        "    Parameters:\n",
        "    x (numpy.ndarray): 2-dimensional numpy array.\n",
        "\n",
        "    Returns:\n",
        "    numpy.ndarray: 2-dimensional numpy array.\n",
        "    \"\"\"\n",
        "    z=np.zeros(x.shape)\n",
        "    relu_lambda =lambda x : x if x>0 else 0\n",
        "    # YOUR CODE STARTS HERE\n",
        "    for i in range(0,len(z[0])):\n",
        "       for j in range(0,len(z[1])):\n",
        "         z[i][j]=relu_lambda(x[i][j])\n",
        "    # YOUR CODE ends HERE\n",
        "\n",
        "    return z"
      ],
      "execution_count": null,
      "outputs": []
    },
    {
      "cell_type": "code",
      "metadata": {
        "id": "IQL_PfxoaDoR"
      },
      "source": [
        "def PYTORCH_ReLU(x):\n",
        "    \"\"\"\n",
        "    Applies the rectified linear unit function element-wise.\n",
        "\n",
        "    Parameters:\n",
        "    x (torch.Tensor): 2-dimensional torch tensor.\n",
        "\n",
        "    Returns:\n",
        "    torch.Tensor: 2-dimensional torch tensor.\n",
        "    \"\"\"\n",
        "    # YOUR CODE STARTS HERE\n",
        "    # z=torch.zeros(x.shape)\n",
        "    # for i in range(0,len(x)):\n",
        "    #    for j in range(0,len(y)):\n",
        "    #      z[i][j]=(x[i][j])\n",
        "    # YOUR CODE ends HERE\n",
        "\n",
        "    return torch.nn.ReLU(x)"
      ],
      "execution_count": null,
      "outputs": []
    },
    {
      "cell_type": "code",
      "metadata": {
        "id": "xQd8n401aE2q",
        "colab": {
          "base_uri": "https://localhost:8080/",
          "height": 408
        },
        "outputId": "0717899d-40c3-4596-d44a-62b3e226dae3"
      },
      "source": [
        "#Test Cases\n",
        "np.random.seed(0)\n",
        "X = np.random.randint(-1000, 1000, size=(3,3))\n",
        "print(NUMPY_ReLU(X))\n",
        "\n",
        "X = torch.from_numpy(X)\n",
        "print(PYTORCH_ReLU(X))"
      ],
      "execution_count": null,
      "outputs": [
        {
          "output_type": "stream",
          "name": "stdout",
          "text": [
            "[[  0.   0. 653.]\n",
            " [216.   0.   0.]\n",
            " [731. 383.  33.]]\n"
          ]
        },
        {
          "output_type": "error",
          "ename": "RuntimeError",
          "evalue": "ignored",
          "traceback": [
            "\u001b[0;31m---------------------------------------------------------------------------\u001b[0m",
            "\u001b[0;31mRuntimeError\u001b[0m                              Traceback (most recent call last)",
            "\u001b[0;32m<ipython-input-29-e398fbb68d63>\u001b[0m in \u001b[0;36m<module>\u001b[0;34m()\u001b[0m\n\u001b[1;32m      5\u001b[0m \u001b[0;34m\u001b[0m\u001b[0m\n\u001b[1;32m      6\u001b[0m \u001b[0mX\u001b[0m \u001b[0;34m=\u001b[0m \u001b[0mtorch\u001b[0m\u001b[0;34m.\u001b[0m\u001b[0mfrom_numpy\u001b[0m\u001b[0;34m(\u001b[0m\u001b[0mX\u001b[0m\u001b[0;34m)\u001b[0m\u001b[0;34m\u001b[0m\u001b[0;34m\u001b[0m\u001b[0m\n\u001b[0;32m----> 7\u001b[0;31m \u001b[0mprint\u001b[0m\u001b[0;34m(\u001b[0m\u001b[0mPYTORCH_ReLU\u001b[0m\u001b[0;34m(\u001b[0m\u001b[0mX\u001b[0m\u001b[0;34m)\u001b[0m\u001b[0;34m)\u001b[0m\u001b[0;34m\u001b[0m\u001b[0;34m\u001b[0m\u001b[0m\n\u001b[0m",
            "\u001b[0;32m/usr/local/lib/python3.7/dist-packages/torch/nn/modules/module.py\u001b[0m in \u001b[0;36m__repr__\u001b[0;34m(self)\u001b[0m\n\u001b[1;32m   1927\u001b[0m         \u001b[0;31m# We treat the extra repr like the sub-module, one item per line\u001b[0m\u001b[0;34m\u001b[0m\u001b[0;34m\u001b[0m\u001b[0;34m\u001b[0m\u001b[0m\n\u001b[1;32m   1928\u001b[0m         \u001b[0mextra_lines\u001b[0m \u001b[0;34m=\u001b[0m \u001b[0;34m[\u001b[0m\u001b[0;34m]\u001b[0m\u001b[0;34m\u001b[0m\u001b[0;34m\u001b[0m\u001b[0m\n\u001b[0;32m-> 1929\u001b[0;31m         \u001b[0mextra_repr\u001b[0m \u001b[0;34m=\u001b[0m \u001b[0mself\u001b[0m\u001b[0;34m.\u001b[0m\u001b[0mextra_repr\u001b[0m\u001b[0;34m(\u001b[0m\u001b[0;34m)\u001b[0m\u001b[0;34m\u001b[0m\u001b[0;34m\u001b[0m\u001b[0m\n\u001b[0m\u001b[1;32m   1930\u001b[0m         \u001b[0;31m# empty string will be split into list ['']\u001b[0m\u001b[0;34m\u001b[0m\u001b[0;34m\u001b[0m\u001b[0;34m\u001b[0m\u001b[0m\n\u001b[1;32m   1931\u001b[0m         \u001b[0;32mif\u001b[0m \u001b[0mextra_repr\u001b[0m\u001b[0;34m:\u001b[0m\u001b[0;34m\u001b[0m\u001b[0;34m\u001b[0m\u001b[0m\n",
            "\u001b[0;32m/usr/local/lib/python3.7/dist-packages/torch/nn/modules/activation.py\u001b[0m in \u001b[0;36mextra_repr\u001b[0;34m(self)\u001b[0m\n\u001b[1;32m     99\u001b[0m \u001b[0;34m\u001b[0m\u001b[0m\n\u001b[1;32m    100\u001b[0m     \u001b[0;32mdef\u001b[0m \u001b[0mextra_repr\u001b[0m\u001b[0;34m(\u001b[0m\u001b[0mself\u001b[0m\u001b[0;34m)\u001b[0m \u001b[0;34m->\u001b[0m \u001b[0mstr\u001b[0m\u001b[0;34m:\u001b[0m\u001b[0;34m\u001b[0m\u001b[0;34m\u001b[0m\u001b[0m\n\u001b[0;32m--> 101\u001b[0;31m         \u001b[0minplace_str\u001b[0m \u001b[0;34m=\u001b[0m \u001b[0;34m'inplace=True'\u001b[0m \u001b[0;32mif\u001b[0m \u001b[0mself\u001b[0m\u001b[0;34m.\u001b[0m\u001b[0minplace\u001b[0m \u001b[0;32melse\u001b[0m \u001b[0;34m''\u001b[0m\u001b[0;34m\u001b[0m\u001b[0;34m\u001b[0m\u001b[0m\n\u001b[0m\u001b[1;32m    102\u001b[0m         \u001b[0;32mreturn\u001b[0m \u001b[0minplace_str\u001b[0m\u001b[0;34m\u001b[0m\u001b[0;34m\u001b[0m\u001b[0m\n\u001b[1;32m    103\u001b[0m \u001b[0;34m\u001b[0m\u001b[0m\n",
            "\u001b[0;31mRuntimeError\u001b[0m: Boolean value of Tensor with more than one value is ambiguous"
          ]
        }
      ]
    },
    {
      "cell_type": "markdown",
      "metadata": {
        "id": "reRDSEkyTtuU"
      },
      "source": [
        "# Pytorch Differentiation"
      ]
    },
    {
      "cell_type": "markdown",
      "metadata": {
        "id": "mNgOZUQaT_ny"
      },
      "source": [
        "**Exercise #8:**\n",
        "\n",
        "**Your Task**: Determine the derivative of $ y = 2x^3+x $ at $x=1$"
      ]
    },
    {
      "cell_type": "code",
      "metadata": {
        "id": "O2royvcJb35_",
        "colab": {
          "base_uri": "https://localhost:8080/"
        },
        "outputId": "3371eddb-1506-4f18-839a-7d145ffd3574"
      },
      "source": [
        "# YOUR CODE STARTS HERE\n",
        "x= torch.tensor(1.0, requires_grad = True)\n",
        "y=(2*(x**3)+x)\n",
        "print(y)\n",
        "y.backward()\n",
        "# YOUR CODE ends HERE\n",
        "print('the graid of y wrt x at x = 1 is ',x.grad)\n",
        "assert x.grad.item()==7"
      ],
      "execution_count": null,
      "outputs": [
        {
          "output_type": "stream",
          "name": "stdout",
          "text": [
            "tensor(3., grad_fn=<AddBackward0>)\n",
            "the graid of y wrt x at x = 1 is  tensor(7.)\n"
          ]
        }
      ]
    },
    {
      "cell_type": "markdown",
      "metadata": {
        "id": "SnM5TjYAUsv_"
      },
      "source": [
        "**Exercise #9:**\n",
        "\n",
        "**Your Task**: Determine the <b>partial derivative</b> of the function: $f(u,v)=vu+u^{2}$ at $(u,v)=(1,2)$\n",
        "\n",
        "*   with respect to u\n",
        "*   with respect to v\n",
        "\n"
      ]
    },
    {
      "cell_type": "code",
      "metadata": {
        "id": "b5lh_HITUXZd",
        "colab": {
          "base_uri": "https://localhost:8080/"
        },
        "outputId": "86c73d70-a722-42e4-8978-d4f71e7561d1"
      },
      "source": [
        "# YOUR CODE STARTS HERE\n",
        "\n",
        "# Calculate f(u, v) = v * u + u^2 at u = 1, v = 2\n",
        "u = torch.tensor(1.0, requires_grad = True)\n",
        "v = torch.tensor(2.0, requires_grad = True)\n",
        "f = (u*v)+(u**2)\n",
        "f.backward()\n",
        "print(\"The result of v * u + u^2: \", f)\n",
        "\n",
        "# Calculate the derivative with respect to u\n",
        "\n",
        "print(\"The partial derivative with respect to u: \", u.grad)\n",
        "\n",
        "# Calculate the derivative with respect to v\n",
        "print(\"The partial derivative with respect to u: \", v.grad)\n",
        "# YOUR CODE ENDS HERE\n"
      ],
      "execution_count": null,
      "outputs": [
        {
          "output_type": "stream",
          "name": "stdout",
          "text": [
            "The result of v * u + u^2:  tensor(3., grad_fn=<AddBackward0>)\n",
            "The partial derivative with respect to u:  tensor(4.)\n",
            "The partial derivative with respect to u:  tensor(1.)\n"
          ]
        }
      ]
    },
    {
      "cell_type": "markdown",
      "metadata": {
        "id": "4idmC9bqWB-S"
      },
      "source": [
        "**Exercise #10:**\n",
        "\n",
        "**Your Task**: Visualize the relu activation function and it derivative\n",
        "\n"
      ]
    },
    {
      "cell_type": "code",
      "metadata": {
        "id": "o1ldzexvVTL_",
        "colab": {
          "base_uri": "https://localhost:8080/",
          "height": 390
        },
        "outputId": "300f9c13-b6f3-4e92-f2e9-045f0ef6045d"
      },
      "source": [
        "x = torch.linspace(-3, 3, 100, requires_grad = True)\n",
        "# Take the derivative of Relu with respect to multiple value in x.\n",
        "Y = torch.nn.ReLU(x)\n",
        "print(Y)\n",
        "Y.backward()\n",
        "\n",
        "# Plot out the function and its derivative\n",
        "plt.plot(x.detach().numpy(), Y.detach().numpy(), label = 'ReLU function')\n",
        "plt.plot(x.detach().numpy(), x.grad.numpy(), label = 'ReLU derivative')\n",
        "plt.xlabel('x')\n",
        "plt.legend()\n",
        "plt.show()"
      ],
      "execution_count": null,
      "outputs": [
        {
          "output_type": "error",
          "ename": "RuntimeError",
          "evalue": "ignored",
          "traceback": [
            "\u001b[0;31m---------------------------------------------------------------------------\u001b[0m",
            "\u001b[0;31mRuntimeError\u001b[0m                              Traceback (most recent call last)",
            "\u001b[0;32m<ipython-input-42-298004b1c7d3>\u001b[0m in \u001b[0;36m<module>\u001b[0;34m()\u001b[0m\n\u001b[1;32m      2\u001b[0m \u001b[0;31m# Take the derivative of Relu with respect to multiple value in x.\u001b[0m\u001b[0;34m\u001b[0m\u001b[0;34m\u001b[0m\u001b[0;34m\u001b[0m\u001b[0m\n\u001b[1;32m      3\u001b[0m \u001b[0mY\u001b[0m \u001b[0;34m=\u001b[0m \u001b[0mtorch\u001b[0m\u001b[0;34m.\u001b[0m\u001b[0mnn\u001b[0m\u001b[0;34m.\u001b[0m\u001b[0mReLU\u001b[0m\u001b[0;34m(\u001b[0m\u001b[0mx\u001b[0m\u001b[0;34m)\u001b[0m\u001b[0;34m\u001b[0m\u001b[0;34m\u001b[0m\u001b[0m\n\u001b[0;32m----> 4\u001b[0;31m \u001b[0mprint\u001b[0m\u001b[0;34m(\u001b[0m\u001b[0mY\u001b[0m\u001b[0;34m)\u001b[0m\u001b[0;34m\u001b[0m\u001b[0;34m\u001b[0m\u001b[0m\n\u001b[0m\u001b[1;32m      5\u001b[0m \u001b[0mY\u001b[0m\u001b[0;34m.\u001b[0m\u001b[0mbackward\u001b[0m\u001b[0;34m(\u001b[0m\u001b[0;34m)\u001b[0m\u001b[0;34m\u001b[0m\u001b[0;34m\u001b[0m\u001b[0m\n\u001b[1;32m      6\u001b[0m \u001b[0;34m\u001b[0m\u001b[0m\n",
            "\u001b[0;32m/usr/local/lib/python3.7/dist-packages/torch/nn/modules/module.py\u001b[0m in \u001b[0;36m__repr__\u001b[0;34m(self)\u001b[0m\n\u001b[1;32m   1927\u001b[0m         \u001b[0;31m# We treat the extra repr like the sub-module, one item per line\u001b[0m\u001b[0;34m\u001b[0m\u001b[0;34m\u001b[0m\u001b[0;34m\u001b[0m\u001b[0m\n\u001b[1;32m   1928\u001b[0m         \u001b[0mextra_lines\u001b[0m \u001b[0;34m=\u001b[0m \u001b[0;34m[\u001b[0m\u001b[0;34m]\u001b[0m\u001b[0;34m\u001b[0m\u001b[0;34m\u001b[0m\u001b[0m\n\u001b[0;32m-> 1929\u001b[0;31m         \u001b[0mextra_repr\u001b[0m \u001b[0;34m=\u001b[0m \u001b[0mself\u001b[0m\u001b[0;34m.\u001b[0m\u001b[0mextra_repr\u001b[0m\u001b[0;34m(\u001b[0m\u001b[0;34m)\u001b[0m\u001b[0;34m\u001b[0m\u001b[0;34m\u001b[0m\u001b[0m\n\u001b[0m\u001b[1;32m   1930\u001b[0m         \u001b[0;31m# empty string will be split into list ['']\u001b[0m\u001b[0;34m\u001b[0m\u001b[0;34m\u001b[0m\u001b[0;34m\u001b[0m\u001b[0m\n\u001b[1;32m   1931\u001b[0m         \u001b[0;32mif\u001b[0m \u001b[0mextra_repr\u001b[0m\u001b[0;34m:\u001b[0m\u001b[0;34m\u001b[0m\u001b[0;34m\u001b[0m\u001b[0m\n",
            "\u001b[0;32m/usr/local/lib/python3.7/dist-packages/torch/nn/modules/activation.py\u001b[0m in \u001b[0;36mextra_repr\u001b[0;34m(self)\u001b[0m\n\u001b[1;32m     99\u001b[0m \u001b[0;34m\u001b[0m\u001b[0m\n\u001b[1;32m    100\u001b[0m     \u001b[0;32mdef\u001b[0m \u001b[0mextra_repr\u001b[0m\u001b[0;34m(\u001b[0m\u001b[0mself\u001b[0m\u001b[0;34m)\u001b[0m \u001b[0;34m->\u001b[0m \u001b[0mstr\u001b[0m\u001b[0;34m:\u001b[0m\u001b[0;34m\u001b[0m\u001b[0;34m\u001b[0m\u001b[0m\n\u001b[0;32m--> 101\u001b[0;31m         \u001b[0minplace_str\u001b[0m \u001b[0;34m=\u001b[0m \u001b[0;34m'inplace=True'\u001b[0m \u001b[0;32mif\u001b[0m \u001b[0mself\u001b[0m\u001b[0;34m.\u001b[0m\u001b[0minplace\u001b[0m \u001b[0;32melse\u001b[0m \u001b[0;34m''\u001b[0m\u001b[0;34m\u001b[0m\u001b[0;34m\u001b[0m\u001b[0m\n\u001b[0m\u001b[1;32m    102\u001b[0m         \u001b[0;32mreturn\u001b[0m \u001b[0minplace_str\u001b[0m\u001b[0;34m\u001b[0m\u001b[0;34m\u001b[0m\u001b[0m\n\u001b[1;32m    103\u001b[0m \u001b[0;34m\u001b[0m\u001b[0m\n",
            "\u001b[0;31mRuntimeError\u001b[0m: Boolean value of Tensor with more than one value is ambiguous"
          ]
        }
      ]
    },
    {
      "cell_type": "code",
      "source": [],
      "metadata": {
        "id": "91RcRW5dnSc5"
      },
      "execution_count": null,
      "outputs": []
    }
  ]
}