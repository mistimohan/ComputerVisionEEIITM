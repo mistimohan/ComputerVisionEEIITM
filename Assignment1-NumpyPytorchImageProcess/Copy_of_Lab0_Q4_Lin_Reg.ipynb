{
  "nbformat": 4,
  "nbformat_minor": 0,
  "metadata": {
    "colab": {
      "provenance": [],
      "toc_visible": true
    },
    "kernelspec": {
      "name": "python3",
      "display_name": "Python 3"
    },
    "language_info": {
      "name": "python"
    }
  },
  "cells": [
    {
      "cell_type": "code",
      "metadata": {
        "id": "alrXoCflGKM8",
        "outputId": "752276c6-816a-4c31-9313-4238189ebb88",
        "colab": {
          "base_uri": "https://localhost:8080/"
        }
      },
      "source": [
        "import numpy as np\n",
        "print(np.__version__)\n",
        "import torch\n",
        "print(torch.__version__)\n",
        "import torch.nn.functional as F\n",
        "import matplotlib.pylab as plt"
      ],
      "execution_count": null,
      "outputs": [
        {
          "output_type": "stream",
          "name": "stdout",
          "text": [
            "1.21.6\n",
            "1.12.0+cu113\n"
          ]
        }
      ]
    },
    {
      "cell_type": "markdown",
      "metadata": {
        "id": "UH2Rz-FUW_Bz"
      },
      "source": [
        "# Linear Regression\n",
        "\n",
        "you will train 1D linear regresion model with PyTorch by using data that you created. <br>The model has two parameters: the slope `x` and bias `b`.\n",
        "\n",
        "Model: $ y = wx+b $"
      ]
    },
    {
      "cell_type": "code",
      "metadata": {
        "colab": {
          "base_uri": "https://localhost:8080/",
          "height": 279
        },
        "id": "Cn942jBmad6f",
        "outputId": "b14b0d58-2a4c-4151-e011-a2c08ea7b5ae"
      },
      "source": [
        "# Create the f(X) with a slope of -3\n",
        "X = torch.arange(-3, 3, 0.1).view(-1, 1)\n",
        "f = -3 * X + 2\n",
        "# Add some noise to f(X) and save it in Y\n",
        "Y = f + 0.2 * torch.randn(X.size())\n",
        "\n",
        "# Plot the data points\n",
        "\n",
        "plt.plot(X.numpy(), Y.numpy(), 'rx', label = 'Y')\n",
        "plt.xlabel('x')\n",
        "plt.ylabel('y')\n",
        "plt.legend()\n",
        "plt.show()"
      ],
      "execution_count": null,
      "outputs": [
        {
          "output_type": "display_data",
          "data": {
            "text/plain": [
              "<Figure size 432x288 with 1 Axes>"
            ],
            "image/png": "[encoded data removed]"
          },
          "metadata": {
            "needs_background": "light"
          }
        }
      ]
    },
    {
      "cell_type": "markdown",
      "metadata": {
        "id": "nQeWM8tWYhjO"
      },
      "source": [
        "**Your Task** (Step 1):  Initialize Model: $w=2,b=-1$\n"
      ]
    },
    {
      "cell_type": "code",
      "metadata": {
        "id": "dBk37YCbVZGc"
      },
      "source": [
        "# Define w = 2 and b = -1 for y = wx + b\n",
        "# Note that w,b are learnable paramteter\n",
        "# i.e., you are going to take the derivative of the tensor(s).\n",
        "# YOUR CODE STARTS HERE\n",
        "w = torch.tensor([2.0],requires_grad = True)\n",
        "b = torch.tensor([-1.0],requires_grad = True)\n",
        "# YOUR CODE ENDS HERE\n",
        "\n",
        "assert w.item() == 2\n",
        "assert b.item() == -1\n",
        "assert w.requires_grad == True\n",
        "assert b.requires_grad == True"
      ],
      "execution_count": null,
      "outputs": []
    },
    {
      "cell_type": "markdown",
      "metadata": {
        "id": "i6Kftt22Y1Sd"
      },
      "source": [
        "**Your Task** (Step 2): Define the function <code>forward(x, w, b)</code> makes the prediction as $y=wx+b$"
      ]
    },
    {
      "cell_type": "code",
      "metadata": {
        "id": "JAdXtg_bXzwn",
        "colab": {
          "base_uri": "https://localhost:8080/"
        },
        "outputId": "c3aadf43-a740-4559-bdb9-fc5dcbcdeb9b"
      },
      "source": [
        "def forward(x,w,b):\n",
        "    # YOUR CODE STARTS HERE\n",
        "    wx_tensor=torch.mul(x,w)\n",
        "    yhat = torch.add(wx_tensor ,b)\n",
        "\n",
        "    # YOUR CODE ends HERE\n",
        "    return yhat\n",
        "\n",
        "# test: Try to make the prediction for multiple inputs: x1=1.0 and x2=2.0\n",
        "x = torch.tensor([[1.0], [2.0]])\n",
        "print(\"The shape of x: \", x.shape)\n",
        "yhat = forward(x,w,b)\n",
        "print(\"The shape of yhat: \", yhat.shape)\n",
        "print(\"The prediction: \", yhat)\n",
        "\n",
        "assert yhat[0].item() == 1 # at x=1, predicted value should be 1\n",
        "assert yhat[1].item() == 3 # at x=2, predicted value should be 3"
      ],
      "execution_count": null,
      "outputs": [
        {
          "output_type": "stream",
          "name": "stdout",
          "text": [
            "The shape of x:  torch.Size([2, 1])\n",
            "The shape of yhat:  torch.Size([2, 1])\n",
            "The prediction:  tensor([[1.],\n",
            "        [3.]], grad_fn=<AddBackward0>)\n"
          ]
        }
      ]
    },
    {
      "cell_type": "markdown",
      "metadata": {
        "id": "MwtGRZ3qbc2A"
      },
      "source": [
        "**Your Task** (Step 3): Define the cost or criterion function using MSE (Mean Square Error):"
      ]
    },
    {
      "cell_type": "code",
      "metadata": {
        "id": "0rVUdfI5ZUQJ"
      },
      "source": [
        "# Create the MSE function for evaluate the result.\n",
        "def criterion(yhat, y):\n",
        "    # YOUR CODE STARTS HERE\n",
        "    loss = torch.mean((yhat - y) ** 2)\n",
        "    # YOUR CODE ends HERE\n",
        "    return loss\n",
        "\n",
        "# test cases:\n",
        "y_true = torch.tensor([3, -0.5, 2, 7])\n",
        "y_pred = torch.tensor([2.5, 0.0, 2, 8])\n",
        "loss = criterion(y_pred,y_true)\n",
        "\n",
        "assert loss.item() == 0.375"
      ],
      "execution_count": null,
      "outputs": []
    },
    {
      "cell_type": "code",
      "source": [
        "X.shape"
      ],
      "metadata": {
        "colab": {
          "base_uri": "https://localhost:8080/"
        },
        "id": "MHoO9qp_2ja7",
        "outputId": "99cba606-0397-41a8-de61-fa424c787440"
      },
      "execution_count": null,
      "outputs": [
        {
          "output_type": "execute_result",
          "data": {
            "text/plain": [
              "torch.Size([60, 1])"
            ]
          },
          "metadata": {},
          "execution_count": 7
        }
      ]
    },
    {
      "cell_type": "markdown",
      "metadata": {
        "id": "AMiO1VvwVfxD"
      },
      "source": [
        "**Your Task** (Step 4): Train your model"
      ]
    },
    {
      "cell_type": "code",
      "metadata": {
        "id": "MaGbytD3bpZ2"
      },
      "source": [
        "# Define a function for train the model\n",
        "LOSS = []\n",
        "def train_model(iter):\n",
        "    for epoch in range(iter):\n",
        "\n",
        "        # YOUR CODE STARTS HERE\n",
        "        # make the prediction as we learned in the last lab\n",
        "        # input data: X\n",
        "        Yhat = forward(X,w,b)\n",
        "        # calculate the loss between prediction Yhat and GT Y\n",
        "        loss = torch.mean((Yhat - Y) ** 2)\n",
        "\n",
        "        # store the loss into list\n",
        "        LOSS.append(loss)\n",
        "\n",
        "        # backward pass: compute gradient of the loss with respect to all the learnable parameters\n",
        "        loss.backward()\n",
        "\n",
        "        # updata parameters with learnign rate alpha=0.001\n",
        "        # w = w - alpha * w_grad\n",
        "        # b = b - alpha * b_grad\n",
        "        w.data = w.data - 0.001 * w.grad.data\n",
        "        b.data = b.data - 0.001 * b.grad.data\n",
        "\n",
        "        # zero the gradients before running the backward pass\n",
        "        w.grad.data.zero_()\n",
        "        b.grad.data.zero_()\n",
        "        # YOUR CODE ENDS HERE\n"
      ],
      "execution_count": null,
      "outputs": []
    },
    {
      "cell_type": "code",
      "metadata": {
        "id": "HjvCElREb2Om",
        "colab": {
          "base_uri": "https://localhost:8080/",
          "height": 365
        },
        "outputId": "57e58384-6371-4cdf-f821-b1ac1e9f95c2"
      },
      "source": [
        "train_model(1000)\n",
        "print(w,b)\n",
        "# Plot the loss for each iteration\n",
        "print(type(LOSS[0]),len(LOSS))\n",
        "for i in range(0,len(LOSS)):\n",
        "  # LOSS[i]=LOSS[i].cpu().numpy()\n",
        "  LOSS[i]=LOSS[i].detach().numpy()\n",
        "plt.plot(LOSS)\n",
        "plt.tight_layout()\n",
        "plt.xlabel(\"Epoch/Iterations\")\n",
        "plt.ylabel(\"Cost\")"
      ],
      "execution_count": null,
      "outputs": [
        {
          "output_type": "stream",
          "name": "stdout",
          "text": [
            "tensor([-2.9899], requires_grad=True) tensor([2.0063], requires_grad=True)\n",
            "<class 'torch.Tensor'> 11000\n"
          ]
        },
        {
          "output_type": "execute_result",
          "data": {
            "text/plain": [
              "Text(30.375, 0.5, 'Cost')"
            ]
          },
          "metadata": {},
          "execution_count": 23
        },
        {
          "output_type": "display_data",
          "data": {
            "text/plain": [
              "<Figure size 432x288 with 1 Axes>"
            ],
            "image/png": "[encoded data removed]"
          },
          "metadata": {
            "needs_background": "light"
          }
        }
      ]
    },
    {
      "cell_type": "code",
      "metadata": {
        "id": "7ynYtt_NWaxI",
        "colab": {
          "base_uri": "https://localhost:8080/",
          "height": 279
        },
        "outputId": "6a837b4d-4457-4f78-86ce-f13485412a05"
      },
      "source": [
        "# Plot the data points\n",
        "plt.plot(X.numpy(), Y.numpy(), 'rx', label = 'Y')\n",
        "y_pred = forward(X,w,b)\n",
        "plt.plot(X.numpy(), y_pred.detach().numpy(), label = 'f')\n",
        "\n",
        "plt.xlabel('x')\n",
        "plt.ylabel('y')\n",
        "plt.legend()\n",
        "plt.show()"
      ],
      "execution_count": null,
      "outputs": [
        {
          "output_type": "display_data",
          "data": {
            "text/plain": [
              "<Figure size 432x288 with 1 Axes>"
            ],
            "image/png": "[encoded data removed]"
          },
          "metadata": {
            "needs_background": "light"
          }
        }
      ]
    },
    {
      "cell_type": "code",
      "metadata": {
        "id": "CtqT7njtdI3n",
        "colab": {
          "base_uri": "https://localhost:8080/"
        },
        "outputId": "5f70c914-bcb5-469c-b3e2-34fd6d933667"
      },
      "source": [
        "print(f'True parameters: w=-3 and b=2')\n",
        "print(f'Predicted parameters: w={w.data} and b={b.data}')"
      ],
      "execution_count": null,
      "outputs": [
        {
          "output_type": "stream",
          "name": "stdout",
          "text": [
            "True parameters: w=-3 and b=2\n",
            "Predicted parameters: w=tensor([-2.9899]) and b=tensor([2.0063])\n"
          ]
        }
      ]
    },
    {
      "cell_type": "code",
      "metadata": {
        "id": "gqPgAz-jdti7"
      },
      "source": [],
      "execution_count": null,
      "outputs": []
    }
  ]
}