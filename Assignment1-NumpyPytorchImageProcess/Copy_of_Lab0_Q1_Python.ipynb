{
  "cells": [
    {
      "cell_type": "code",
      "execution_count": null,
      "metadata": {
        "colab": {
          "background_save": true
        },
        "id": "alrXoCflGKM8"
      },
      "outputs": [],
      "source": [
        "import matplotlib.pylab as plt\n",
        "import numpy as np"
      ]
    },
    {
      "cell_type": "markdown",
      "metadata": {
        "id": "ujfIAOPMb11i"
      },
      "source": [
        "## **Python Basics :**\n",
        "\n",
        "---"
      ]
    },
    {
      "cell_type": "markdown",
      "metadata": {
        "id": "qe9H4zT1b5fN"
      },
      "source": [
        "**Exercise #1 :** Fibonacci sequence\n",
        "\n",
        "A Fibonacci sequence is the integer sequence of 0, 1, 1, 2, 3, 5, 8. The first two terms are 0 and 1. All other terms are obtained by adding the preceding two terms.This means to say the nth term is the sum of (n-1)th and (n-2)th term.\n",
        "\n",
        "**Your Task**: Implement the functions `recur_fibo`"
      ]
    },
    {
      "cell_type": "code",
      "execution_count": null,
      "metadata": {
        "colab": {
          "base_uri": "https://localhost:8080/"
        },
        "id": "zP9ueOPUb2Yz",
        "outputId": "6bb09ae2-7630-4848-f25b-a1a322faedc6"
      },
      "outputs": [
        {
          "name": "stdout",
          "output_type": "stream",
          "text": [
            "0th term is 0\n",
            "1th term is 1\n",
            "2th term is 1\n",
            "3th term is 2\n",
            "4th term is 3\n",
            "5th term is 5\n",
            "6th term is 8\n",
            "7th term is 13\n",
            "8th term is 21\n",
            "9th term is 34\n"
          ]
        }
      ],
      "source": [
        "def recur_fibo(n):\n",
        "\n",
        "  #Implement the recursive call escape statement\n",
        "  ## YOUR CODE STARTS HERE\n",
        "  if(n>1):\n",
        "    return recur_fibo(n-2)+recur_fibo(n-1)\n",
        "  else:\n",
        "    if(n<=1):\n",
        "      return n\n",
        "\n",
        "  ## YOUR CODE ENDS HERE\n",
        "  return None\n",
        "\n",
        "nterms = 10 # display the Fibonacci sequence up to n-th term\n",
        "\n",
        "# check if the number of terms is valid\n",
        "for i in range(nterms):\n",
        "  print(f'{i}th term is {recur_fibo(i)}')"
      ]
    },
    {
      "cell_type": "markdown",
      "metadata": {
        "id": "knaJKaldfhMC"
      },
      "source": [
        "**Exercise #2:** Lambda function\n",
        "\n",
        "A lambda function is a small anonymous function that can take any number of arguments, but can only have one expression.\n",
        "\n",
        "**Your Task**: Implement Lambda function for `sigmoid_lambda` and `relu_lambda` whose definition is given below:\n",
        "\n",
        "$$sigmoid(x)=\\frac{1}{1+e^x}$$\n",
        "$$ReLU(x)=x^+ = max{(0,x)}$$"
      ]
    },
    {
      "cell_type": "code",
      "execution_count": null,
      "metadata": {
        "id": "WaHJERI5fvrh"
      },
      "outputs": [],
      "source": [
        "def sigmoid(x):\n",
        "  sigmoid = 1 / (1 + np.exp(-x))\n",
        "  return sigmoid\n",
        "\n",
        "## Implement the above sigmoid function using python lambda functions\n",
        "## YOUR CODE STARTS HERE\n",
        "sigmoid_lambda = lambda x : 1 / (1 + np.exp(-x))\n",
        "## YOUR CODE ENDS HERE\n",
        "\n",
        "assert sigmoid(10)==sigmoid_lambda(10)"
      ]
    },
    {
      "cell_type": "code",
      "execution_count": null,
      "metadata": {
        "id": "7P5FQQz-hPcI"
      },
      "outputs": [],
      "source": [
        "def relu(x):\n",
        "  relu = x if x>0 else 0\n",
        "  return relu\n",
        "\n",
        "## Implement the above sigmoid function using python lambda functions\n",
        "## YOUR CODE STARTS HERE\n",
        "relu_lambda =lambda x : x if x>0 else 0\n",
        "## YOUR CODE ENDS HERE\n",
        "assert relu(10)==relu_lambda(10)"
      ]
    },
    {
      "cell_type": "markdown",
      "metadata": {
        "id": "KeA4VNsth4tQ"
      },
      "source": [
        "**Exercise #3:** Python map keyword\n",
        "\n",
        "**Your Task**: Using the lambda functions and python's map keyword apply `sigmoid` and `relu` on a list of numbers from -20 to 20.\n",
        "Store the output in a list and print it."
      ]
    },
    {
      "cell_type": "code",
      "execution_count": null,
      "metadata": {
        "colab": {
          "base_uri": "https://localhost:8080/",
          "height": 321
        },
        "id": "kN6zQyPch3PT",
        "outputId": "18f8e3c9-1d66-470e-8fab-6931bc3d890b"
      },
      "outputs": [
        {
          "name": "stdout",
          "output_type": "stream",
          "text": [
            "[2.0611536181902037e-09, 5.602796406145941e-09, 1.522997951276035e-08, 4.1399375473943306e-08, 1.12535162055095e-07, 3.059022269256247e-07, 8.315280276641321e-07, 2.2603242979035746e-06, 6.144174602214718e-06, 1.670142184809518e-05, 4.5397868702434395e-05, 0.00012339457598623172, 0.0003353501304664781, 0.0009110511944006454, 0.0024726231566347743, 0.0066928509242848554, 0.01798620996209156, 0.04742587317756678, 0.11920292202211755, 0.2689414213699951, 0.5, 0.7310585786300049, 0.8807970779778823, 0.9525741268224334, 0.9820137900379085, 0.9933071490757153, 0.9975273768433653, 0.9990889488055994, 0.9996646498695336, 0.9998766054240137, 0.9999546021312976, 0.999983298578152, 0.9999938558253978, 0.999997739675702, 0.9999991684719722, 0.999999694097773, 0.9999998874648379, 0.9999999586006244, 0.9999999847700205, 0.9999999943972036]\n"
          ]
        },
        {
          "data": {
            "text/plain": [
              "[<matplotlib.lines.Line2D at 0x7faa550efcd0>]"
            ]
          },
          "execution_count": 12,
          "metadata": {},
          "output_type": "execute_result"
        },
        {
          "data": {
            "image/png": "[encoded data removed]",
            "text/plain": [
              "<Figure size 432x288 with 1 Axes>"
            ]
          },
          "metadata": {},
          "output_type": "display_data"
        }
      ],
      "source": [
        "x_list = [*range(-20,20)]\n",
        "## YOUR CODE STARTS HERE\n",
        "sigmoid_out = list(map(sigmoid_lambda,x_list))\n",
        "## YOUR CODE ENDS HERE\n",
        "print(sigmoid_out)\n",
        "plt.plot(x_list,sigmoid_out)"
      ]
    },
    {
      "cell_type": "code",
      "execution_count": null,
      "metadata": {
        "colab": {
          "base_uri": "https://localhost:8080/",
          "height": 301
        },
        "id": "mDLEqXh2iLMf",
        "outputId": "c04d73ff-a406-4b87-a867-f5ae42dc172f"
      },
      "outputs": [
        {
          "name": "stdout",
          "output_type": "stream",
          "text": [
            "[0, 0, 0, 0, 0, 0, 0, 0, 0, 0, 0, 0, 0, 0, 0, 0, 0, 0, 0, 0, 0, 1, 2, 3, 4, 5, 6, 7, 8, 9, 10, 11, 12, 13, 14, 15, 16, 17, 18, 19]\n"
          ]
        },
        {
          "data": {
            "text/plain": [
              "[<matplotlib.lines.Line2D at 0x7faa55073a50>]"
            ]
          },
          "execution_count": 13,
          "metadata": {},
          "output_type": "execute_result"
        },
        {
          "data": {
            "image/png": "[encoded data removed]",
            "text/plain": [
              "<Figure size 432x288 with 1 Axes>"
            ]
          },
          "metadata": {},
          "output_type": "display_data"
        }
      ],
      "source": [
        "x_list = [*range(-20,20)]\n",
        "## YOUR CODE STARTS HERE\n",
        "relu_out =list(map(relu_lambda,x_list))\n",
        "## YOUR CODE ENDS HERE\n",
        "print(relu_out)\n",
        "plt.plot(x_list,relu_out)"
      ]
    }
  ],
  "metadata": {
    "colab": {
      "provenance": [],
      "toc_visible": true
    },
    "kernelspec": {
      "display_name": "Python 3",
      "name": "python3"
    },
    "language_info": {
      "name": "python"
    }
  },
  "nbformat": 4,
  "nbformat_minor": 0
}